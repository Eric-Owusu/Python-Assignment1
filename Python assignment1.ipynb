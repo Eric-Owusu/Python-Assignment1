{
 "cells": [
  {
   "cell_type": "markdown",
   "id": "1971db0e",
   "metadata": {},
   "source": [
    "### Q1\n",
    "List the basic data types in python and give one example each."
   ]
  },
  {
   "cell_type": "code",
   "execution_count": 16,
   "id": "6c25a697",
   "metadata": {},
   "outputs": [
    {
     "ename": "SyntaxError",
     "evalue": "invalid syntax (3728173087.py, line 1)",
     "output_type": "error",
     "traceback": [
      "\u001b[1;36m  File \u001b[1;32m\"C:\\Users\\LENOVO\\AppData\\Local\\Temp\\ipykernel_12904\\3728173087.py\"\u001b[1;36m, line \u001b[1;32m1\u001b[0m\n\u001b[1;33m    1. Integers\u001b[0m\n\u001b[1;37m       ^\u001b[0m\n\u001b[1;31mSyntaxError\u001b[0m\u001b[1;31m:\u001b[0m invalid syntax\n"
     ]
    }
   ],
   "source": [
    "1. Integers\n",
    "2. Floats\n",
    "3. Strings\n",
    "4. Booleans\n",
    "\n",
    "Integers = 1, 2, 3, \n",
    "Floats = 2.8, 3.6. 8.0\n",
    "Strings = \"Selasi is a great guy\"\n",
    "Booleans = True/false\n",
    "\n",
    "Eric = 2\n",
    "type(\"Eric\")\n"
   ]
  },
  {
   "cell_type": "markdown",
   "id": "4a2be5ba",
   "metadata": {},
   "source": [
    "### Q2\n",
    "Change the variable x = 4539.85 to :\n",
    "\n",
    "(i) a string and assign it to a new variable y,\n",
    "\n",
    "(ii) an integer and assign it to a new variable z\n",
    "\n",
    "Print out the type of y and z."
   ]
  },
  {
   "cell_type": "code",
   "execution_count": 28,
   "id": "4f69aaca",
   "metadata": {},
   "outputs": [
    {
     "data": {
      "text/plain": [
       "'4539.85'"
      ]
     },
     "execution_count": 28,
     "metadata": {},
     "output_type": "execute_result"
    }
   ],
   "source": [
    "x = str(4539.85)\n",
    "y = x\n",
    "y"
   ]
  },
  {
   "cell_type": "code",
   "execution_count": 29,
   "id": "0607132d",
   "metadata": {},
   "outputs": [
    {
     "data": {
      "text/plain": [
       "4539"
      ]
     },
     "execution_count": 29,
     "metadata": {},
     "output_type": "execute_result"
    }
   ],
   "source": [
    "x = int(4539.85)\n",
    "z = x\n",
    "z"
   ]
  },
  {
   "cell_type": "markdown",
   "id": "81a1251c",
   "metadata": {},
   "source": [
    "### Q3\n",
    "\n",
    "What data type would you use to store\n",
    "\n",
    "a. The price of car?\n",
    "\n",
    "b. The age of a person\n",
    "\n",
    "c. car plate number: plateNumber = \"AV01-AFP\"?\n",
    "\n",
    "d. The price of fuel\n",
    "\n",
    "e. The number of students in the class\n",
    "\n",
    "f. The weight of a person\n",
    "\n",
    "g. Check whether two figures are equal\n",
    "\n",
    "i. The name of a  school\n",
    "\n",
    "j. The average result of the overall score of a student\n",
    "\n",
    "k. The total number of vote cast\n",
    "\n"
   ]
  },
  {
   "cell_type": "code",
   "execution_count": null,
   "id": "c557545b",
   "metadata": {},
   "outputs": [],
   "source": [
    "a. Float\n",
    "b. Integer\n",
    "c. String\n",
    "d. Float\n",
    "e. Integer\n",
    "f. Float\n",
    "g. Boolean\n",
    "i. String\n",
    "j. Float\n",
    "k. Integer"
   ]
  },
  {
   "cell_type": "markdown",
   "id": "f0694362",
   "metadata": {},
   "source": [
    "### Q4\n",
    "**Thomas Partey is arguably the best player in the Black Stars. He is a great addition to the team**\n",
    "\n",
    "Split the statement above into **two statement_1** and **statement_2** such that statement_1 will be 'Thomas Partey is arguably the best player in the Black Stars' and statement_2 will be 'He is a great addition to the team'\n",
    "\n",
    "Statement:\n",
    "\n",
    "- **What is the length of statment 1?**\n",
    "-**What is the length of statment 2?**\n",
    "-**Is the length of statement 1 greater than statement 2**\n",
    "\n"
   ]
  },
  {
   "cell_type": "code",
   "execution_count": 18,
   "id": "7e78e772",
   "metadata": {},
   "outputs": [
    {
     "data": {
      "text/plain": [
       "34"
      ]
     },
     "execution_count": 18,
     "metadata": {},
     "output_type": "execute_result"
    }
   ],
   "source": [
    "statement_1 = 'Thomas Partey is arguably the best player in the Black Stars'\n",
    "len(statement_1)\n",
    "statement_2 = 'He is a great addition to the team'\n",
    "len(statement_2)\n"
   ]
  },
  {
   "cell_type": "code",
   "execution_count": 20,
   "id": "6bce9db7",
   "metadata": {},
   "outputs": [
    {
     "data": {
      "text/plain": [
       "60"
      ]
     },
     "execution_count": 20,
     "metadata": {},
     "output_type": "execute_result"
    }
   ],
   "source": [
    "len(statement_1)"
   ]
  },
  {
   "cell_type": "code",
   "execution_count": 19,
   "id": "c2e4c8c6",
   "metadata": {},
   "outputs": [
    {
     "data": {
      "text/plain": [
       "True"
      ]
     },
     "execution_count": 19,
     "metadata": {},
     "output_type": "execute_result"
    }
   ],
   "source": [
    "len(statement_1) > len(statement_2)"
   ]
  },
  {
   "cell_type": "markdown",
   "id": "ceb46447",
   "metadata": {},
   "source": [
    "Q5\n",
    "What values does python use to represent True and False respectively?"
   ]
  },
  {
   "cell_type": "code",
   "execution_count": null,
   "id": "870d657e",
   "metadata": {},
   "outputs": [],
   "source": [
    "True = 1\n",
    "False = 0"
   ]
  },
  {
   "cell_type": "markdown",
   "id": "e4cc9b15",
   "metadata": {},
   "source": [
    "### Q6\n",
    "Write a code to evaluate if the following statments are True or False.\n",
    "\n",
    "1. 78 is greater than 46 and less than 30 which is an odd number.\n",
    "\n",
    "2. 8-2 is an even number or 8 is a is an odd number.\n",
    "\n",
    "3. The number of characters in the word 'boostrap' is 7 and that of 'sample' is 6."
   ]
  },
  {
   "cell_type": "code",
   "execution_count": 21,
   "id": "aaef2550",
   "metadata": {},
   "outputs": [
    {
     "ename": "SyntaxError",
     "evalue": "cannot assign to comparison (3877750259.py, line 1)",
     "output_type": "error",
     "traceback": [
      "\u001b[1;36m  File \u001b[1;32m\"C:\\Users\\LENOVO\\AppData\\Local\\Temp\\ipykernel_12904\\3877750259.py\"\u001b[1;36m, line \u001b[1;32m1\u001b[0m\n\u001b[1;33m    78 > 46 < 30 = mod > 0\u001b[0m\n\u001b[1;37m    ^\u001b[0m\n\u001b[1;31mSyntaxError\u001b[0m\u001b[1;31m:\u001b[0m cannot assign to comparison\n"
     ]
    }
   ],
   "source": [
    " 78 > 46 < 30 = mod > 0"
   ]
  },
  {
   "cell_type": "code",
   "execution_count": 1,
   "id": "27692863",
   "metadata": {},
   "outputs": [
    {
     "data": {
      "text/plain": [
       "False"
      ]
     },
     "execution_count": 1,
     "metadata": {},
     "output_type": "execute_result"
    }
   ],
   "source": [
    "46 < 78 < 30 and 78%2 !=0"
   ]
  },
  {
   "cell_type": "code",
   "execution_count": 2,
   "id": "fde31e9b",
   "metadata": {},
   "outputs": [
    {
     "data": {
      "text/plain": [
       "True"
      ]
     },
     "execution_count": 2,
     "metadata": {},
     "output_type": "execute_result"
    }
   ],
   "source": [
    "(8-2)%2 == 0 or 8%2 !=0"
   ]
  },
  {
   "cell_type": "code",
   "execution_count": 3,
   "id": "3d8c144e",
   "metadata": {},
   "outputs": [
    {
     "data": {
      "text/plain": [
       "False"
      ]
     },
     "execution_count": 3,
     "metadata": {},
     "output_type": "execute_result"
    }
   ],
   "source": [
    "bool(len(\"boostrap\") ==7) and bool(len(\"sample\") ==6)"
   ]
  },
  {
   "cell_type": "markdown",
   "id": "bc13f9fc",
   "metadata": {},
   "source": [
    "### Q7\n",
    "Given the following python code,\n",
    "\n",
    "`word='Hello, How are you?'`\n",
    "\n",
    "Write Python code to return the following\n",
    "\n",
    "- How\n",
    "- How are you\n",
    "- are\n",
    "- ?\n",
    "- Hello, How are you\n",
    "\n",
    "\n",
    " "
   ]
  },
  {
   "cell_type": "code",
   "execution_count": 14,
   "id": "d8240fc5",
   "metadata": {},
   "outputs": [
    {
     "data": {
      "text/plain": [
       "'Hello, How are you'"
      ]
     },
     "execution_count": 14,
     "metadata": {},
     "output_type": "execute_result"
    }
   ],
   "source": [
    "word = 'Hello, How are you?'\n",
    "word[7:10]\n",
    "word[6:]\n",
    "word[11:14]\n",
    "word[-1]\n",
    "word[0:18]"
   ]
  },
  {
   "cell_type": "markdown",
   "id": "e4167de5",
   "metadata": {},
   "source": [
    " Q8\n",
    "Given the following python code,\n",
    "\n",
    "`sentence = \"I am very excited\"`\n",
    "\n",
    "Write Python code to return \n",
    "- Convert sentence to upper case\n",
    "- Convert sentence to lower case\n",
    "- Convert sentence to title case\n",
    "- Convert sentence to list of strings\n",
    "\n",
    "sentence.upper()\n",
    " "
   ]
  },
  {
   "cell_type": "code",
   "execution_count": 6,
   "id": "b92e7c14",
   "metadata": {},
   "outputs": [
    {
     "ename": "TypeError",
     "evalue": "str.title() takes no arguments (1 given)",
     "output_type": "error",
     "traceback": [
      "\u001b[1;31m---------------------------------------------------------------------------\u001b[0m",
      "\u001b[1;31mTypeError\u001b[0m                                 Traceback (most recent call last)",
      "\u001b[1;32m~\\AppData\\Local\\Temp\\ipykernel_12904\\1003664903.py\u001b[0m in \u001b[0;36m<module>\u001b[1;34m\u001b[0m\n\u001b[0;32m      2\u001b[0m \u001b[0msentence\u001b[0m\u001b[1;33m.\u001b[0m\u001b[0mupper\u001b[0m\u001b[1;33m(\u001b[0m\u001b[1;33m)\u001b[0m\u001b[1;33m\u001b[0m\u001b[1;33m\u001b[0m\u001b[0m\n\u001b[0;32m      3\u001b[0m \u001b[0msentence\u001b[0m\u001b[1;33m.\u001b[0m\u001b[0mlower\u001b[0m\u001b[1;33m(\u001b[0m\u001b[1;33m)\u001b[0m\u001b[1;33m\u001b[0m\u001b[1;33m\u001b[0m\u001b[0m\n\u001b[1;32m----> 4\u001b[1;33m \u001b[0msentence\u001b[0m\u001b[1;33m.\u001b[0m\u001b[0mtitle\u001b[0m\u001b[1;33m(\u001b[0m\u001b[1;34m\" \"\u001b[0m\u001b[1;33m)\u001b[0m\u001b[1;33m\u001b[0m\u001b[1;33m\u001b[0m\u001b[0m\n\u001b[0m",
      "\u001b[1;31mTypeError\u001b[0m: str.title() takes no arguments (1 given)"
     ]
    }
   ],
   "source": [
    "sentence = \"I am very excited\"\n",
    "sentence.upper()\n",
    "sentence.lower()\n",
    "sentence.title()\n"
   ]
  },
  {
   "cell_type": "code",
   "execution_count": 22,
   "id": "1e0f533b",
   "metadata": {},
   "outputs": [
    {
     "data": {
      "text/plain": [
       "'I AM VERY EXCITED'"
      ]
     },
     "execution_count": 22,
     "metadata": {},
     "output_type": "execute_result"
    }
   ],
   "source": [
    "sentence.upper()"
   ]
  },
  {
   "cell_type": "code",
   "execution_count": 23,
   "id": "72d55069",
   "metadata": {},
   "outputs": [
    {
     "data": {
      "text/plain": [
       "'i am very excited'"
      ]
     },
     "execution_count": 23,
     "metadata": {},
     "output_type": "execute_result"
    }
   ],
   "source": [
    "sentence.lower()"
   ]
  },
  {
   "cell_type": "code",
   "execution_count": 24,
   "id": "515ac3c8",
   "metadata": {},
   "outputs": [
    {
     "data": {
      "text/plain": [
       "'I Am Very Excited'"
      ]
     },
     "execution_count": 24,
     "metadata": {},
     "output_type": "execute_result"
    }
   ],
   "source": [
    "sentence.title()"
   ]
  },
  {
   "cell_type": "code",
   "execution_count": 25,
   "id": "ef5a8374",
   "metadata": {},
   "outputs": [
    {
     "data": {
      "text/plain": [
       "['I', 'am', 'very', 'excited']"
      ]
     },
     "execution_count": 25,
     "metadata": {},
     "output_type": "execute_result"
    }
   ],
   "source": [
    "sentence.split(\" \")"
   ]
  },
  {
   "cell_type": "markdown",
   "id": "4faf0134",
   "metadata": {},
   "source": [
    " Q9\n",
    "`word = 'OneThirtyEight'`\n",
    "\n",
    "Using Python code extract the following from the variable word:\n",
    "- One\n",
    "- Thirty\n",
    "- Eight\n",
    "- OneThirty\n",
    "- ThirtyEight\n",
    "- ONETHIRTYEIGHT"
   ]
  },
  {
   "cell_type": "code",
   "execution_count": 30,
   "id": "11bb1783",
   "metadata": {},
   "outputs": [
    {
     "data": {
      "text/plain": [
       "'One'"
      ]
     },
     "execution_count": 30,
     "metadata": {},
     "output_type": "execute_result"
    }
   ],
   "source": [
    "word = 'OneThirtyEight'\n",
    "word[0:3]"
   ]
  },
  {
   "cell_type": "code",
   "execution_count": 31,
   "id": "c58000f4",
   "metadata": {},
   "outputs": [
    {
     "data": {
      "text/plain": [
       "'Thirty'"
      ]
     },
     "execution_count": 31,
     "metadata": {},
     "output_type": "execute_result"
    }
   ],
   "source": [
    "word[3:9]"
   ]
  },
  {
   "cell_type": "code",
   "execution_count": 32,
   "id": "f2e01ba8",
   "metadata": {},
   "outputs": [
    {
     "data": {
      "text/plain": [
       "'Eight'"
      ]
     },
     "execution_count": 32,
     "metadata": {},
     "output_type": "execute_result"
    }
   ],
   "source": [
    "word[9:14]"
   ]
  },
  {
   "cell_type": "code",
   "execution_count": 33,
   "id": "cd299cc6",
   "metadata": {},
   "outputs": [
    {
     "data": {
      "text/plain": [
       "'ThirtyEight'"
      ]
     },
     "execution_count": 33,
     "metadata": {},
     "output_type": "execute_result"
    }
   ],
   "source": [
    "word[3:14]"
   ]
  },
  {
   "cell_type": "code",
   "execution_count": 34,
   "id": "02df20f9",
   "metadata": {},
   "outputs": [
    {
     "data": {
      "text/plain": [
       "'OneThirtyEight'"
      ]
     },
     "execution_count": 34,
     "metadata": {},
     "output_type": "execute_result"
    }
   ],
   "source": [
    "word[0:14]"
   ]
  },
  {
   "cell_type": "code",
   "execution_count": null,
   "id": "8471b99d",
   "metadata": {},
   "outputs": [],
   "source": []
  },
  {
   "cell_type": "markdown",
   "id": "2a4eea1f",
   "metadata": {},
   "source": [
    "### Q10\n",
    "Turn Ault'Kelly into a string and assign it to a variable  called name."
   ]
  },
  {
   "cell_type": "code",
   "execution_count": 27,
   "id": "aa2f0a08",
   "metadata": {},
   "outputs": [],
   "source": [
    "name = \"Ault'Kelly\""
   ]
  },
  {
   "cell_type": "code",
   "execution_count": null,
   "id": "e82aa1ca",
   "metadata": {},
   "outputs": [],
   "source": []
  }
 ],
 "metadata": {
  "kernelspec": {
   "display_name": "Python 3 (ipykernel)",
   "language": "python",
   "name": "python3"
  },
  "language_info": {
   "codemirror_mode": {
    "name": "ipython",
    "version": 3
   },
   "file_extension": ".py",
   "mimetype": "text/x-python",
   "name": "python",
   "nbconvert_exporter": "python",
   "pygments_lexer": "ipython3",
   "version": "3.9.13"
  }
 },
 "nbformat": 4,
 "nbformat_minor": 5
}
